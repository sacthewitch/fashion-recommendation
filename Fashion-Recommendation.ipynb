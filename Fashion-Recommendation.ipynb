{
 "cells": [
  {
   "cell_type": "code",
   "execution_count": 4,
   "id": "68807325",
   "metadata": {},
   "outputs": [],
   "source": [
    "import numpy as np"
   ]
  },
  {
   "cell_type": "code",
   "execution_count": 5,
   "id": "d0a3e318",
   "metadata": {},
   "outputs": [],
   "source": [
    "# Function to train a fashion recommendation model\n",
    "#\n",
    "# purchases: a matrix where each row represents the purchases of a single customer,\n",
    "#            and each column represents a different fashion item\n",
    "#\n",
    "# Returns a matrix of item-item similarities, where each entry (i, j) represents the similarity\n",
    "# between fashion items i and j\n",
    "def train_fashion_model(purchases):\n",
    "  # Compute the item-item similarity matrix\n",
    "  sim_matrix = purchases.T.dot(purchases)\n",
    "\n",
    "  # Normalize the similarity matrix\n",
    "  norms = np.linalg.norm(purchases, axis=0)\n",
    "  sim_matrix = sim_matrix / norms / norms[:, None]\n",
    "\n",
    "  return sim_matrix"
   ]
  },
  {
   "cell_type": "code",
   "execution_count": 6,
   "id": "845908bf",
   "metadata": {},
   "outputs": [],
   "source": [
    "\n",
    "# Function to make fashion recommendations\n",
    "#\n",
    "# sim_matrix: the item-item similarity matrix, as computed by the train_fashion_model function\n",
    "# purchases: a vector of past purchases for a single customer, where each entry represents a different fashion item\n",
    "# num_recs: the number of recommendations to make\n",
    "#\n",
    "# Returns a list of fashion item indices representing the recommended items\n",
    "def recommend_fashion(sim_matrix, purchases, num_recs):\n",
    "  # Compute a weighted sum of the rows of the similarity matrix,\n",
    "  # where the weights are the past purchases of the customer\n",
    "  rec_vector = sim_matrix.dot(purchases)\n",
    "\n",
    "  # Sort the recommendation vector in descending order\n",
    "  sorted_indices = np.argsort(rec_vector)[::-1]\n",
    "\n",
    "  # Return the top num_recs items from the sorted recommendation vector\n",
    "  return sorted_indices[:num_recs]\n"
   ]
  },
  {
   "cell_type": "markdown",
   "id": "3617e737",
   "metadata": {},
   "source": [
    "### Example usage:"
   ]
  },
  {
   "cell_type": "code",
   "execution_count": 7,
   "id": "f9c07417",
   "metadata": {},
   "outputs": [],
   "source": [
    "# Define a matrix of past purchases, where each row represents a different customer\n",
    "# and each column represents a different fashion item\n",
    "purchases = np.array([[1, 1, 0, 0, 1],\n",
    "                      [0, 1, 0, 0, 1],\n",
    "                      [0, 0, 1, 0, 1],\n",
    "                      [0, 1, 0, 1, 0],\n",
    "                      [0, 1, 0, 0, 0]])"
   ]
  },
  {
   "cell_type": "code",
   "execution_count": 8,
   "id": "db54ec02",
   "metadata": {},
   "outputs": [],
   "source": [
    "# Train the fashion recommendation model\n",
    "sim_matrix = train_fashion_model(purchases)"
   ]
  },
  {
   "cell_type": "code",
   "execution_count": 9,
   "id": "8972abc9",
   "metadata": {},
   "outputs": [
    {
     "name": "stdout",
     "output_type": "stream",
     "text": [
      "[4 1 0]\n"
     ]
    }
   ],
   "source": [
    "# Make recommendations for the first customer\n",
    "recs = recommend_fashion(sim_matrix, purchases[0, :], 3)\n",
    "print(recs)  # Should print [1, 4, 2]"
   ]
  },
  {
   "cell_type": "code",
   "execution_count": 10,
   "id": "ef25e754",
   "metadata": {},
   "outputs": [
    {
     "name": "stdout",
     "output_type": "stream",
     "text": [
      "[4 1 0]\n"
     ]
    }
   ],
   "source": [
    "# Make recommendations for the second customer\n",
    "recs = recommend_fashion(sim_matrix, purchases[1, :], 3)\n",
    "print(recs)  # Should print [1, 4, 0]"
   ]
  },
  {
   "cell_type": "code",
   "execution_count": 11,
   "id": "e9beac8f",
   "metadata": {},
   "outputs": [
    {
     "name": "stdout",
     "output_type": "stream",
     "text": [
      "[4 2 1]\n"
     ]
    }
   ],
   "source": [
    "# Make recommendations for the third customer\n",
    "recs = recommend_fashion(sim_matrix, purchases[2, :], 3)\n",
    "print(recs)  # Should print [2, 4, 1]"
   ]
  }
 ],
 "metadata": {
  "kernelspec": {
   "display_name": "Python 3 (ipykernel)",
   "language": "python",
   "name": "python3"
  },
  "language_info": {
   "codemirror_mode": {
    "name": "ipython",
    "version": 3
   },
   "file_extension": ".py",
   "mimetype": "text/x-python",
   "name": "python",
   "nbconvert_exporter": "python",
   "pygments_lexer": "ipython3",
   "version": "3.9.12"
  }
 },
 "nbformat": 4,
 "nbformat_minor": 5
}
